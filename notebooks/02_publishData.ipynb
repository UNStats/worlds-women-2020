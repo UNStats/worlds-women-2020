{
 "cells": [
  {
   "cell_type": "markdown",
   "metadata": {},
   "source": [
    "# Publish gender data to arcgis online"
   ]
  },
  {
   "cell_type": "code",
   "execution_count": 14,
   "metadata": {},
   "outputs": [],
   "source": [
    "import sys\n",
    "import os\n",
    "from arcgis.gis import GIS\n",
    "import copy\n",
    "import requests\n",
    "import json\n",
    "\n",
    "# see: https://stackoverflow.com/questions/4383571/importing-files-from-different-folder\n",
    "# insert at 1, 0 is the script path (or '' in REPL)\n",
    "sys.path.insert(1, '../scripts')\n",
    "\n",
    "import utils\n",
    "import utils_arcgis\n",
    "\n",
    "# https://volderette.de/jupyter-notebook-tip-multiple-outputs/\n",
    "from IPython.core.interactiveshell import InteractiveShell\n",
    "InteractiveShell.ast_node_interactivity = \"all\""
   ]
  },
  {
   "cell_type": "markdown",
   "metadata": {},
   "source": [
    "## Get data files"
   ]
  },
  {
   "cell_type": "code",
   "execution_count": 15,
   "metadata": {},
   "outputs": [],
   "source": [
    "data_files = os.listdir('../data/processed/series')\n",
    "data_dir = 'data/processed/series'\n",
    "data_files2 = [f for f in data_files if not f.endswith(\".csv\")]\n",
    "\n",
    "series_metadata = utils.open_json(\n",
    "    '../data/external/seriesMetadata.json')"
   ]
  },
  {
   "cell_type": "code",
   "execution_count": 16,
   "metadata": {},
   "outputs": [
    {
     "name": "stdout",
     "output_type": "stream",
     "text": [
      "{'code': 'S_0670', 'name': 'Prevalence of obesity among adults, BMI greater than or equal to 30  (age-standardized estimate)', 'themes': [{'code': 'HEA', 'name': 'Health and related services', 'subthemes': [{'code': 'HEA_SUB6', 'name': 'Health risk factors'}]}], 'narratives': ['NH6'], 'tags': ['health']}\n"
     ]
    }
   ],
   "source": [
    "#for f in data_files:\n",
    "#    print(f)\n",
    "\n",
    "print(series_metadata[69])"
   ]
  },
  {
   "cell_type": "markdown",
   "metadata": {},
   "source": [
    "## Establish ArcGIS online connection"
   ]
  },
  {
   "cell_type": "code",
   "execution_count": 17,
   "metadata": {},
   "outputs": [
    {
     "name": "stdin",
     "output_type": "stream",
     "text": [
      "Username:  unstats_admin\n",
      "Password:  ············\n"
     ]
    },
    {
     "name": "stdout",
     "output_type": "stream",
     "text": [
      "GIS @ https://undesa.maps.arcgis.com version:8.3\n"
     ]
    }
   ],
   "source": [
    "online_username, gis_online_connection = utils_arcgis.connect_to_arcGIS()\n",
    "print(gis_online_connection)\n"
   ]
  },
  {
   "cell_type": "code",
   "execution_count": 18,
   "metadata": {},
   "outputs": [
    {
     "name": "stdout",
     "output_type": "stream",
     "text": [
      "unstats_admin\n"
     ]
    }
   ],
   "source": [
    "print(online_username)"
   ]
  },
  {
   "cell_type": "markdown",
   "metadata": {},
   "source": [
    "## Test publishing algorithm"
   ]
  },
  {
   "cell_type": "code",
   "execution_count": 19,
   "metadata": {},
   "outputs": [],
   "source": [
    "def build_series_card(s):\n",
    "    \"\"\" Build series metadata card \"\"\"\n",
    "\n",
    "    try:\n",
    "        s_card = dict()\n",
    "\n",
    "        s_desc = s['name']\n",
    "\n",
    "        title = s['name'].replace('%', 'percent').replace(\n",
    "            ',', ' ').replace('/', ' ')\n",
    "\n",
    "        s_card['title'] = (title[:250] + '..') if len(title) > 250 else title\n",
    "\n",
    "        layer_title = s['name'].replace('%', 'percent').replace(',', ' ').replace('/', ' ').replace(';', ' ')\n",
    "\n",
    "        s_card['layer_title'] = layer_title[:89] if len(\n",
    "            layer_title) > 88 else layer_title  # this is very important!!!\n",
    "\n",
    "        s_card['snippet'] = s_card['title']\n",
    "\n",
    "        \n",
    "        s_card['description'] =  \\\n",
    "            '<div style=\"background-color: #f78b33; color:#fff; padding: 15px\">' + \\\n",
    "            '<p><strong>Series Name:</strong>'+ s['name'] +'</p>' + \\\n",
    "            '</div>' + \\\n",
    "            '<div style=\"background-color: #f4f4f4; padding: 15px\">' + \\\n",
    "            '<p> </p>' + \\\n",
    "            '</div>'\n",
    "\n",
    "        series_tags = ['tag1', 'tag2']\n",
    "        series_tags.append('tag3')\n",
    "\n",
    "        s_card['tags'] = s['tags'][:]\n",
    "\n",
    "        return s_card\n",
    "    except:\n",
    "        print('Unexpected error:', sys.exc_info()[0])\n",
    "        return None"
   ]
  },
  {
   "cell_type": "code",
   "execution_count": 20,
   "metadata": {},
   "outputs": [],
   "source": [
    "def find_online_item(title, owner, gis_online_connection, force_find=True):\n",
    "\n",
    "    try:\n",
    "\n",
    "        # Search for this ArcGIS Online Item\n",
    "        query_string = \"title:'{}' AND owner:{}\".format(title, owner)\n",
    "        print('Searching for ' + title)\n",
    "        # The search() method returns a list of Item objects that match the\n",
    "        # search criteria\n",
    "        search_results = gis_online_connection.content.search(query_string)\n",
    "\n",
    "        if search_results:\n",
    "            for item in search_results:\n",
    "                if item['title'] == title:\n",
    "                    print(' -- Item ' + title + ' found (simple find)')\n",
    "                    return item\n",
    "\n",
    "        if force_find:\n",
    "            user = gis_online_connection.users.get(owner)\n",
    "            user_items = user.items(folder='Open Data', max_items=800)\n",
    "            for item in user_items:\n",
    "                if item['title'] == title:\n",
    "                    print(' -- Item ' + title + ' found (force find)')\n",
    "                    return item\n",
    "            print(' -- Item ' + title + ' not found (force find)')\n",
    "            return None\n",
    "\n",
    "        print(' -- Item ' + title + ' not found (simple find)')\n",
    "        return None\n",
    "\n",
    "    except:\n",
    "        print('Unexpected error:', sys.exc_info()[0])\n",
    "        return None"
   ]
  },
  {
   "cell_type": "code",
   "execution_count": 21,
   "metadata": {},
   "outputs": [],
   "source": [
    "\n",
    "def set_field_alias(field_name):\n",
    "\n",
    "    if field_name == 'SERIES':\n",
    "        return 'Series Code'\n",
    "    elif field_name == 'SERIES_DESC':\n",
    "        return 'Series Name'\n",
    "    elif field_name == 'REF_AREA':\n",
    "        return 'Geographic Area Code'\n",
    "    elif field_name == 'REF_AREA_DESC':\n",
    "        return 'Geographic Area Name'\n",
    "    elif field_name == 'GEOLEVEL':\n",
    "        return 'Geographic Area Level'\n",
    "    elif field_name == 'GEOLEVEL_DESC':\n",
    "        return 'Geographic Area Level Description'\n",
    "    elif field_name == 'OBS_VALUE':\n",
    "        return 'Value'\n",
    "    elif field_name == 'UNIT_MEASURE':\n",
    "        return 'Measurement Unit Code'\n",
    "    elif field_name == 'UNIT_MEASURE_DESC':\n",
    "        return 'Measurement Unit Description'\n",
    "    else:\n",
    "        return utils.camel_case_split(field_name.replace('_', ' ')).replace(' DESC', ' Description').title()\n"
   ]
  },
  {
   "cell_type": "code",
   "execution_count": 22,
   "metadata": {},
   "outputs": [],
   "source": [
    "\n",
    "def analyze_csv(item_id, gis_online_connection):\n",
    "    try:\n",
    "        sharing_url = gis_online_connection._url + \\\n",
    "            '/sharing/rest/content/features/analyze'\n",
    "        \n",
    "        analyze_params = {'f': 'json',\n",
    "                          'token': gis_online_connection._con.token,\n",
    "                          'sourceLocale': 'en-us',\n",
    "                          'filetype': 'csv',\n",
    "                          'itemid': item_id}\n",
    "\n",
    "        r = requests.post(sharing_url, data=analyze_params)\n",
    "\n",
    "        analyze_json_data = json.loads(r.content.decode('UTF-8'))\n",
    "        \n",
    "        for field in analyze_json_data['publishParameters']['layerInfo']['fields']:\n",
    "            field['alias'] = set_field_alias(field['name'])\n",
    "\n",
    "        # set up some of the layer information for display\n",
    "        analyze_json_data['publishParameters']['layerInfo']['displayField'] = 'OBS_VALUE'\n",
    "        \n",
    "        return analyze_json_data['publishParameters']\n",
    "    except:\n",
    "        print('Unexpected error:', sys.exc_info()[0])\n",
    "        return None\n"
   ]
  },
  {
   "cell_type": "code",
   "execution_count": 53,
   "metadata": {},
   "outputs": [
    {
     "data": {
      "text/plain": [
       "'S_0680.xlsx'"
      ]
     },
     "execution_count": 53,
     "metadata": {},
     "output_type": "execute_result"
    }
   ],
   "source": [
    "#for d in data_files:\n",
    "#    print(d)\n",
    "data_files2[70]"
   ]
  },
  {
   "cell_type": "code",
   "execution_count": 52,
   "metadata": {},
   "outputs": [
    {
     "name": "stdout",
     "output_type": "stream",
     "text": [
      "s: {'code': 'S_0680', 'name': 'Age-standardized mortality rate attributed to ambient air pollution (deaths per 100,000 population), by sex', 'themes': [{'code': 'ENV', 'name': 'Environment', 'subthemes': [{'code': 'ENV_SUB5', 'name': ''}, {'code': 'HEA_SUB6', 'name': 'Health risk factors'}]}, {'code': 'HEA', 'name': 'Health and related services', 'subthemes': [{'code': 'ENV_SUB5', 'name': ''}, {'code': 'HEA_SUB6', 'name': 'Health risk factors'}]}], 'narratives': ['NN4'], 'tags': ['health', 'environment', 'risk factors']}\n",
      "{'SERIES': 'S_0680', 'SERIES_DESC': 'Age-standardized mortality rate attributed to ambient air pollution (deaths per 100,000 population), by sex', 'REPORTING_TYPE': 'G', 'REPORTING_TYPE_DESC': 'Global', 'GEOLEVEL': '4', 'GEOLEVEL_DESC': 'Country or Area', 'X': '25.23763153', 'Y': '42.75731323', 'REF_AREA': '100', 'REF_AREA_DESC': 'Bulgaria', 'TIME_PERIOD': '2016', 'SEX': 'M', 'SEX_DESC': 'Male', 'OBS_VALUE': '71', 'UNIT_MEASURE': 'PER_100000_POP', 'UNIT_MEASURE_DESC': 'Per 100,000 population', 'UNIT_MULT': '0', 'UNIT_MULT_DESC': 'Units', 'NATURE': 'nan', 'NATURE_DESC': 'nan', 'SOURCE_DETAIL': 'Global Health Observatory (GHO)\\u202fdatabase, World Health Organization (WHO)', 'SOURCE_DETAIL_URL': 'nan', 'TIME_DETAIL': 'nan', 'COMMENT_OBS': 'nan'}\n",
      "../data/processed/series/S_0680.csv\n",
      "csv_item_properties = {'title': 'Age-standardized mortality rate attributed to ambient air pollution (deaths per 100 000 population)  by sex', 'layer_title': 'Age-standardized mortality rate attributed to ambient air pollution (deaths per 100 000 p', 'snippet': 'Age-standardized mortality rate attributed to ambient air pollution (deaths per 100 000 population)  by sex', 'description': '<div style=\"background-color: #f78b33; color:#fff; padding: 15px\"><p><strong>Series Name:</strong>Age-standardized mortality rate attributed to ambient air pollution (deaths per 100,000 population), by sex</p></div><div style=\"background-color: #f4f4f4; padding: 15px\"><p> </p></div>', 'tags': ['health', 'environment', 'risk factors'], 'name': 'Age-standardized mortality rate attributed to ambient air pollution (deaths per 100 000 population)  by sex', 'type': 'CSV', 'url': ''}\n",
      "Searching for Age-standardized mortality rate attributed to ambient air pollution (deaths per 100 000 population)  by sex\n",
      " -- Item Age-standardized mortality rate attributed to ambient air pollution (deaths per 100 000 population)  by sex found (simple find)\n",
      "s: {'code': 'S_0690', 'name': 'Age-standardized mortality rate attributed to household air pollution (deaths per 100,000 population), by sex', 'themes': [{'code': 'ENV', 'name': 'Environment', 'subthemes': [{'code': 'ENV_SUB5', 'name': ''}, {'code': 'HEA_SUB6', 'name': 'Health risk factors'}]}, {'code': 'HEA', 'name': 'Health and related services', 'subthemes': [{'code': 'ENV_SUB5', 'name': ''}, {'code': 'HEA_SUB6', 'name': 'Health risk factors'}]}], 'narratives': ['NN4'], 'tags': ['health', 'environment', 'risk factors']}\n",
      "{'SERIES': 'S_0690', 'SERIES_DESC': 'Age-standardized mortality rate attributed to household air pollution (deaths per 100,000 population), by sex', 'REPORTING_TYPE': 'G', 'REPORTING_TYPE_DESC': 'Global', 'GEOLEVEL': '4', 'GEOLEVEL_DESC': 'Country or Area', 'X': '25.23763153', 'Y': '42.75731323', 'REF_AREA': '100', 'REF_AREA_DESC': 'Bulgaria', 'TIME_PERIOD': '2016', 'SEX': 'M', 'SEX_DESC': 'Male', 'OBS_VALUE': '13', 'UNIT_MEASURE': 'PER_100000_POP', 'UNIT_MEASURE_DESC': 'Per 100,000 population', 'UNIT_MULT': '0', 'UNIT_MULT_DESC': 'Units', 'NATURE': 'nan', 'NATURE_DESC': 'nan', 'SOURCE_DETAIL': 'Global Health Observatory (GHO)\\u202fdatabase, World Health Organization (WHO)', 'SOURCE_DETAIL_URL': 'nan', 'TIME_DETAIL': 'nan', 'COMMENT_OBS': 'nan'}\n",
      "../data/processed/series/S_0690.csv\n",
      "csv_item_properties = {'title': 'Age-standardized mortality rate attributed to household air pollution (deaths per 100 000 population)  by sex', 'layer_title': 'Age-standardized mortality rate attributed to household air pollution (deaths per 100 000', 'snippet': 'Age-standardized mortality rate attributed to household air pollution (deaths per 100 000 population)  by sex', 'description': '<div style=\"background-color: #f78b33; color:#fff; padding: 15px\"><p><strong>Series Name:</strong>Age-standardized mortality rate attributed to household air pollution (deaths per 100,000 population), by sex</p></div><div style=\"background-color: #f4f4f4; padding: 15px\"><p> </p></div>', 'tags': ['health', 'environment', 'risk factors'], 'name': 'Age-standardized mortality rate attributed to household air pollution (deaths per 100 000 population)  by sex', 'type': 'CSV', 'url': ''}\n",
      "Searching for Age-standardized mortality rate attributed to household air pollution (deaths per 100 000 population)  by sex\n",
      " -- Item Age-standardized mortality rate attributed to household air pollution (deaths per 100 000 population)  by sex found (simple find)\n",
      "s: {'code': 'S_0700', 'name': 'Age-standardized mortality rate attributed to joint household and ambient air pollution (deaths per 100,000 population), by sex', 'themes': [{'code': 'ENV', 'name': 'Environment', 'subthemes': [{'code': 'ENV_SUB5', 'name': ''}, {'code': 'HEA_SUB6', 'name': 'Health risk factors'}]}, {'code': 'HEA', 'name': 'Health and related services', 'subthemes': [{'code': 'ENV_SUB5', 'name': ''}, {'code': 'HEA_SUB6', 'name': 'Health risk factors'}]}], 'narratives': ['NN4'], 'tags': ['health', 'environment', 'risk factors']}\n",
      "{'SERIES': 'S_0700', 'SERIES_DESC': 'Age-standardized mortality rate attributed to joint household and ambient air pollution (deaths per 100,000 population), by sex', 'REPORTING_TYPE': 'G', 'REPORTING_TYPE_DESC': 'Global', 'GEOLEVEL': '4', 'GEOLEVEL_DESC': 'Country or Area', 'X': '25.23763153', 'Y': '42.75731323', 'REF_AREA': '100', 'REF_AREA_DESC': 'Bulgaria', 'TIME_PERIOD': '2016', 'SEX': 'M', 'SEX_DESC': 'Male', 'OBS_VALUE': '82', 'UNIT_MEASURE': 'PER_100000_POP', 'UNIT_MEASURE_DESC': 'Per 100,000 population', 'UNIT_MULT': '0', 'UNIT_MULT_DESC': 'Units', 'NATURE': 'nan', 'NATURE_DESC': 'nan', 'SOURCE_DETAIL': 'Global Health Observatory (GHO)\\u202fdatabase, World Health Organization (WHO)', 'SOURCE_DETAIL_URL': 'nan', 'TIME_DETAIL': 'nan', 'COMMENT_OBS': 'nan'}\n",
      "../data/processed/series/S_0700.csv\n",
      "csv_item_properties = {'title': 'Age-standardized mortality rate attributed to joint household and ambient air pollution (deaths per 100 000 population)  by sex', 'layer_title': 'Age-standardized mortality rate attributed to joint household and ambient air pollution (', 'snippet': 'Age-standardized mortality rate attributed to joint household and ambient air pollution (deaths per 100 000 population)  by sex', 'description': '<div style=\"background-color: #f78b33; color:#fff; padding: 15px\"><p><strong>Series Name:</strong>Age-standardized mortality rate attributed to joint household and ambient air pollution (deaths per 100,000 population), by sex</p></div><div style=\"background-color: #f4f4f4; padding: 15px\"><p> </p></div>', 'tags': ['health', 'environment', 'risk factors'], 'name': 'Age-standardized mortality rate attributed to joint household and ambient air pollution (deaths per 100 000 population)  by sex', 'type': 'CSV', 'url': ''}\n",
      "Searching for Age-standardized mortality rate attributed to joint household and ambient air pollution (deaths per 100 000 population)  by sex\n",
      " -- Item Age-standardized mortality rate attributed to joint household and ambient air pollution (deaths per 100 000 population)  by sex found (simple find)\n",
      "s: {'code': 'S_0710', 'name': 'Cause-specific mortality rate (age-standardized), due to road injury', 'themes': [{'code': 'HEA', 'name': 'Health and related services', 'subthemes': [{'code': 'HEA_SUB6', 'name': 'Health risk factors'}]}], 'narratives': ['NH8'], 'tags': ['health']}\n",
      "{'SERIES': 'S_0710', 'SERIES_DESC': 'Cause-specific mortality rate (age-standardized), due to road injury', 'REPORTING_TYPE': 'G', 'REPORTING_TYPE_DESC': 'Global', 'GEOLEVEL': '0', 'GEOLEVEL_DESC': 'Global', 'X': 'nan', 'Y': 'nan', 'REF_AREA': '1', 'REF_AREA_DESC': 'World', 'TIME_PERIOD': '2016', 'SEX': 'M', 'SEX_DESC': 'Male', 'AGE': 'Y00T04', 'AGE_DESC': 'under 5 years old', 'COD': '1530', 'COD_DESC': 'Road injury', 'OBS_VALUE': '10.0', 'UNIT_MEASURE': 'PER_100000_POP', 'UNIT_MEASURE_DESC': 'Per 100,000 population', 'UNIT_MULT': '0', 'UNIT_MULT_DESC': 'Units', 'NATURE': 'E', 'NATURE_DESC': 'Estimated', 'SOURCE_DETAIL': 'Global Health Estimates 2016, World Health Organisation (WHO).', 'SOURCE_DETAIL_URL': 'nan', 'TIME_DETAIL': 'nan', 'COMMENT_OBS': 'nan'}\n",
      "../data/processed/series/S_0710.csv\n",
      "csv_item_properties = {'title': 'Cause-specific mortality rate (age-standardized)  due to road injury', 'layer_title': 'Cause-specific mortality rate (age-standardized)  due to road injury', 'snippet': 'Cause-specific mortality rate (age-standardized)  due to road injury', 'description': '<div style=\"background-color: #f78b33; color:#fff; padding: 15px\"><p><strong>Series Name:</strong>Cause-specific mortality rate (age-standardized), due to road injury</p></div><div style=\"background-color: #f4f4f4; padding: 15px\"><p> </p></div>', 'tags': ['health'], 'name': 'Cause-specific mortality rate (age-standardized)  due to road injury', 'type': 'CSV', 'url': ''}\n",
      "Searching for Cause-specific mortality rate (age-standardized)  due to road injury\n",
      " -- Item Cause-specific mortality rate (age-standardized)  due to road injury found (simple find)\n",
      "s: {'code': 'S_0720', 'name': 'Percentage of adolescent girls aged 15-19 years who have undergone female genital mutilation/cutting', 'themes': [{'code': 'VAW', 'name': 'Violence against women and girl children', 'subthemes': [{'code': 'VAW_SUB1', 'name': 'Violence against women and girl children'}]}], 'narratives': ['NV5'], 'tags': ['violence']}\n",
      "{'SERIES': 'S_0720', 'SERIES_DESC': 'Percentage of adolescent girls aged 15-19 years who have undergone female genital mutilation/cutting', 'REPORTING_TYPE': 'G', 'REPORTING_TYPE_DESC': 'Global', 'GEOLEVEL': '4', 'GEOLEVEL_DESC': 'Country or Area', 'X': '20.93559492', 'Y': '7.003720791', 'REF_AREA': '140', 'REF_AREA_DESC': 'Central African Republic', 'TIME_PERIOD': '1990', 'SEX': 'F', 'SEX_DESC': 'Female', 'AGE': 'Y15T19', 'AGE_DESC': '15 to 19 years old', 'OBS_VALUE': '34.0', 'UNIT_MEASURE': 'PT', 'UNIT_MEASURE_DESC': 'Percent', 'UNIT_MULT': '0', 'UNIT_MULT_DESC': 'Units', 'NATURE': 'nan', 'NATURE_DESC': 'nan', 'SOURCE_DETAIL': 'nan', 'SOURCE_DETAIL_URL': 'nan', 'TIME_DETAIL': 'nan', 'COMMENT_OBS': 'nan'}\n",
      "../data/processed/series/S_0720.csv\n",
      "csv_item_properties = {'title': 'Percentage of adolescent girls aged 15-19 years who have undergone female genital mutilation cutting', 'layer_title': 'Percentage of adolescent girls aged 15-19 years who have undergone female genital mutilat', 'snippet': 'Percentage of adolescent girls aged 15-19 years who have undergone female genital mutilation cutting', 'description': '<div style=\"background-color: #f78b33; color:#fff; padding: 15px\"><p><strong>Series Name:</strong>Percentage of adolescent girls aged 15-19 years who have undergone female genital mutilation/cutting</p></div><div style=\"background-color: #f4f4f4; padding: 15px\"><p> </p></div>', 'tags': ['violence'], 'name': 'Percentage of adolescent girls aged 15-19 years who have undergone female genital mutilation cutting', 'type': 'CSV', 'url': ''}\n",
      "Searching for Percentage of adolescent girls aged 15-19 years who have undergone female genital mutilation cutting\n",
      " -- Item Percentage of adolescent girls aged 15-19 years who have undergone female genital mutilation cutting not found (force find)\n",
      "Adding CSV File to ArcGIS Online....\n",
      "Analyze Feature Service....\n",
      "Publishing Feature Service....\n",
      "s: {'code': 'S_0730', 'name': 'Proportion of girls and women aged 15-49 years who have undergone female genital mutilation/cutting', 'themes': [{'code': 'VAW', 'name': 'Violence against women and girl children', 'subthemes': [{'code': 'VAW_SUB1', 'name': 'Violence against women and girl children'}]}], 'narratives': ['NV5'], 'tags': ['violence']}\n",
      "{'SERIES': 'S_0730', 'SERIES_DESC': 'Proportion of girls and women aged 15-49 years who have undergone female genital mutilation/cutting', 'REPORTING_TYPE': 'G', 'REPORTING_TYPE_DESC': 'Global', 'GEOLEVEL': '4', 'GEOLEVEL_DESC': 'Country or Area', 'X': '12.7419827', 'Y': '5.692387031', 'REF_AREA': '120', 'REF_AREA_DESC': 'Cameroon', 'TIME_PERIOD': '2004', 'SEX': 'F', 'SEX_DESC': 'Female', 'AGE': 'Y15T49', 'AGE_DESC': '15 to 49 years old', 'OBS_VALUE': '1.4', 'UNIT_MEASURE': 'PT', 'UNIT_MEASURE_DESC': 'Percent', 'UNIT_MULT': '0', 'UNIT_MULT_DESC': 'Units', 'NATURE': 'nan', 'NATURE_DESC': 'nan', 'SOURCE_DETAIL': 'DHS', 'SOURCE_DETAIL_URL': 'nan', 'TIME_DETAIL': '2004', 'COMMENT_OBS': 'nan'}\n",
      "../data/processed/series/S_0730.csv\n",
      "csv_item_properties = {'title': 'Proportion of girls and women aged 15-49 years who have undergone female genital mutilation cutting', 'layer_title': 'Proportion of girls and women aged 15-49 years who have undergone female genital mutilati', 'snippet': 'Proportion of girls and women aged 15-49 years who have undergone female genital mutilation cutting', 'description': '<div style=\"background-color: #f78b33; color:#fff; padding: 15px\"><p><strong>Series Name:</strong>Proportion of girls and women aged 15-49 years who have undergone female genital mutilation/cutting</p></div><div style=\"background-color: #f4f4f4; padding: 15px\"><p> </p></div>', 'tags': ['violence'], 'name': 'Proportion of girls and women aged 15-49 years who have undergone female genital mutilation cutting', 'type': 'CSV', 'url': ''}\n",
      "Searching for Proportion of girls and women aged 15-49 years who have undergone female genital mutilation cutting\n",
      " -- Item Proportion of girls and women aged 15-49 years who have undergone female genital mutilation cutting not found (force find)\n",
      "Adding CSV File to ArcGIS Online....\n",
      "Analyze Feature Service....\n",
      "Publishing Feature Service....\n",
      "s: {'code': 'S_0740', 'name': 'Number of femicide', 'themes': [{'code': 'VAW', 'name': 'Violence against women and girl children', 'subthemes': [{'code': 'VAW_SUB1', 'name': 'Violence against women and girl children'}]}], 'narratives': ['NV8'], 'tags': ['violence']}\n",
      "{'SERIES': 'S_0740', 'SERIES_DESC': 'Number of femicide', 'REPORTING_TYPE': 'R', 'REPORTING_TYPE_DESC': 'Regional', 'GEOLEVEL': '4', 'GEOLEVEL_DESC': 'Country or Area', 'X': '-84.19712782', 'Y': '9.970998683', 'REF_AREA': '188', 'REF_AREA_DESC': 'Costa Rica', 'TIME_PERIOD': '2018', 'SEX': 'F', 'SEX_DESC': 'Female', 'OBS_VALUE': '24.0', 'UNIT_MEASURE': 'NUMBER', 'UNIT_MEASURE_DESC': 'Number', 'UNIT_MULT': '0', 'UNIT_MULT_DESC': 'Units', 'NATURE': 'nan', 'NATURE_DESC': 'nan', 'SOURCE_DETAIL': 'Economic Commission for Latin America and the Caribbean (ECLAC), Gender Equality Observatory for Latin America and the Caribbean [online] https://oig.cepal.org/en.', 'SOURCE_DETAIL_URL': 'nan', 'TIME_DETAIL': 'Latest available year', 'COMMENT_OBS': 'nan'}\n",
      "../data/processed/series/S_0740.csv\n",
      "csv_item_properties = {'title': 'Number of femicide', 'layer_title': 'Number of femicide', 'snippet': 'Number of femicide', 'description': '<div style=\"background-color: #f78b33; color:#fff; padding: 15px\"><p><strong>Series Name:</strong>Number of femicide</p></div><div style=\"background-color: #f4f4f4; padding: 15px\"><p> </p></div>', 'tags': ['violence'], 'name': 'Number of femicide', 'type': 'CSV', 'url': ''}\n",
      "Searching for Number of femicide\n",
      " -- Item Number of femicide not found (force find)\n",
      "Adding CSV File to ArcGIS Online....\n",
      "Analyze Feature Service....\n",
      "Publishing Feature Service....\n",
      "s: {'code': 'S_0750', 'name': 'Number of femicide by intimate partner', 'themes': [{'code': 'VAW', 'name': 'Violence against women and girl children', 'subthemes': [{'code': 'VAW_SUB1', 'name': 'Violence against women and girl children'}]}], 'narratives': ['NV8'], 'tags': ['violence']}\n",
      "{'SERIES': 'S_0750', 'SERIES_DESC': 'Number of femicide by intimate partner', 'REPORTING_TYPE': 'R', 'REPORTING_TYPE_DESC': 'Regional', 'GEOLEVEL': '4', 'GEOLEVEL_DESC': 'Country or Area', 'X': '-71.23029019', 'Y': '-35.265288500000004', 'REF_AREA': '152', 'REF_AREA_DESC': 'Chile', 'TIME_PERIOD': '2018', 'SEX': 'F', 'SEX_DESC': 'Female', 'OBS_VALUE': '42.0', 'UNIT_MEASURE': 'NUMBER', 'UNIT_MEASURE_DESC': 'Number', 'UNIT_MULT': '0', 'UNIT_MULT_DESC': 'Units', 'NATURE': 'nan', 'NATURE_DESC': 'nan', 'SOURCE_DETAIL': 'Economic Commission for Latin America and the Caribbean (ECLAC), Gender Equality Observatory for Latin America and the Caribbean [online] https://oig.cepal.org/en.', 'SOURCE_DETAIL_URL': 'nan', 'TIME_DETAIL': 'Latest available year', 'COMMENT_OBS': 'nan'}\n",
      "../data/processed/series/S_0750.csv\n",
      "csv_item_properties = {'title': 'Number of femicide by intimate partner', 'layer_title': 'Number of femicide by intimate partner', 'snippet': 'Number of femicide by intimate partner', 'description': '<div style=\"background-color: #f78b33; color:#fff; padding: 15px\"><p><strong>Series Name:</strong>Number of femicide by intimate partner</p></div><div style=\"background-color: #f4f4f4; padding: 15px\"><p> </p></div>', 'tags': ['violence'], 'name': 'Number of femicide by intimate partner', 'type': 'CSV', 'url': ''}\n",
      "Searching for Number of femicide by intimate partner\n",
      " -- Item Number of femicide by intimate partner not found (force find)\n",
      "Adding CSV File to ArcGIS Online....\n",
      "Analyze Feature Service....\n",
      "Publishing Feature Service....\n",
      "s: {'code': 'S_0760', 'name': 'Rate of femicide', 'themes': [{'code': 'VAW', 'name': 'Violence against women and girl children', 'subthemes': [{'code': 'VAW_SUB1', 'name': 'Violence against women and girl children'}]}], 'narratives': ['NV8'], 'tags': ['violence']}\n",
      "{'SERIES': 'S_0760', 'SERIES_DESC': 'Rate of femicide', 'REPORTING_TYPE': 'R', 'REPORTING_TYPE_DESC': 'Regional', 'GEOLEVEL': '4', 'GEOLEVEL_DESC': 'Country or Area', 'X': '-84.19712782', 'Y': '9.970998683', 'REF_AREA': '188', 'REF_AREA_DESC': 'Costa Rica', 'TIME_PERIOD': '2018', 'SEX': 'F', 'SEX_DESC': 'Female', 'OBS_VALUE': '1.0', 'UNIT_MEASURE': 'PER_100000_WOMEN', 'UNIT_MEASURE_DESC': 'Per 100,000 women', 'UNIT_MULT': '0', 'UNIT_MULT_DESC': 'Units', 'NATURE': 'nan', 'NATURE_DESC': 'nan', 'SOURCE_DETAIL': 'Economic Commission for Latin America and the Caribbean (ECLAC), Gender Equality Observatory for Latin America and the Caribbean [online] https://oig.cepal.org/en.', 'SOURCE_DETAIL_URL': 'nan', 'TIME_DETAIL': 'Latest available year', 'COMMENT_OBS': 'nan'}\n",
      "../data/processed/series/S_0760.csv\n",
      "csv_item_properties = {'title': 'Rate of femicide', 'layer_title': 'Rate of femicide', 'snippet': 'Rate of femicide', 'description': '<div style=\"background-color: #f78b33; color:#fff; padding: 15px\"><p><strong>Series Name:</strong>Rate of femicide</p></div><div style=\"background-color: #f4f4f4; padding: 15px\"><p> </p></div>', 'tags': ['violence'], 'name': 'Rate of femicide', 'type': 'CSV', 'url': ''}\n",
      "Searching for Rate of femicide\n",
      " -- Item Rate of femicide not found (force find)\n",
      "Adding CSV File to ArcGIS Online....\n",
      "Analyze Feature Service....\n",
      "Publishing Feature Service....\n",
      "s: {'code': 'S_0770', 'name': 'Rate of femicide by intimate partner', 'themes': [{'code': 'VAW', 'name': 'Violence against women and girl children', 'subthemes': [{'code': 'VAW_SUB1', 'name': 'Violence against women and girl children'}]}], 'narratives': ['NV8'], 'tags': ['violence']}\n",
      "{'SERIES': 'S_0770', 'SERIES_DESC': 'Rate of femicide by intimate partner', 'REPORTING_TYPE': 'R', 'REPORTING_TYPE_DESC': 'Regional', 'GEOLEVEL': '4', 'GEOLEVEL_DESC': 'Country or Area', 'X': '-71.23029019', 'Y': '-35.265288500000004', 'REF_AREA': '152', 'REF_AREA_DESC': 'Chile', 'TIME_PERIOD': '2018', 'SEX': 'F', 'SEX_DESC': 'Female', 'OBS_VALUE': '0.5', 'UNIT_MEASURE': 'PER_100000_WOMEN', 'UNIT_MEASURE_DESC': 'Per 100,000 women', 'UNIT_MULT': '0', 'UNIT_MULT_DESC': 'Units', 'NATURE': 'nan', 'NATURE_DESC': 'nan', 'SOURCE_DETAIL': 'Economic Commission for Latin America and the Caribbean (ECLAC), Gender Equality Observatory for Latin America and the Caribbean [online] https://oig.cepal.org/en.', 'SOURCE_DETAIL_URL': 'nan', 'TIME_DETAIL': 'Latest available year', 'COMMENT_OBS': 'nan'}\n",
      "../data/processed/series/S_0770.csv\n",
      "csv_item_properties = {'title': 'Rate of femicide by intimate partner', 'layer_title': 'Rate of femicide by intimate partner', 'snippet': 'Rate of femicide by intimate partner', 'description': '<div style=\"background-color: #f78b33; color:#fff; padding: 15px\"><p><strong>Series Name:</strong>Rate of femicide by intimate partner</p></div><div style=\"background-color: #f4f4f4; padding: 15px\"><p> </p></div>', 'tags': ['violence'], 'name': 'Rate of femicide by intimate partner', 'type': 'CSV', 'url': ''}\n",
      "Searching for Rate of femicide by intimate partner\n",
      " -- Item Rate of femicide by intimate partner not found (force find)\n",
      "Adding CSV File to ArcGIS Online....\n",
      "Analyze Feature Service....\n",
      "Publishing Feature Service....\n",
      "s: {'code': 'S_0780', 'name': 'Number of ever-partnered women and girls subjected to violence by a current or former intimate partner in the previous 12 months, by type of violence, by age', 'themes': [{'code': 'VAW', 'name': 'Violence against women and girl children', 'subthemes': [{'code': 'VAW_SUB1', 'name': 'Violence against women and girl children'}]}], 'narratives': ['NV14'], 'tags': ['violence']}\n",
      "{'SERIES': 'S_0780', 'SERIES_DESC': 'Number of ever-partnered women and girls subjected to violence by a current or former intimate partner in the previous 12 months, by type of violence, by age', 'REPORTING_TYPE': 'N', 'REPORTING_TYPE_DESC': 'National', 'GEOLEVEL': '4', 'GEOLEVEL_DESC': 'Country or Area', 'X': '-102.5148166', 'Y': '23.93378032', 'REF_AREA': '484', 'REF_AREA_DESC': 'Mexico', 'TIME_PERIOD': '2016', 'SEX': 'F', 'SEX_DESC': 'Female', 'AGE': '_X', 'AGE_DESC': 'Not Available or not specified', 'VIOLENCE_TYPE': 'PHY', 'VIOLENCE_TYPE_DESC': 'Physical', 'OBS_VALUE': '3797.0', 'LOWER_BOUND': '1543.206579', 'UPPER_BOUND': '6050.793421', 'STD_ERROR': '1370.209108', 'VAR_COEF': '36.08662386', 'UNIT_MEASURE': 'NUMBER', 'UNIT_MEASURE_DESC': 'Number', 'UNIT_MULT': '0', 'UNIT_MULT_DESC': 'Units', 'NATURE': 'C', 'NATURE_DESC': 'Country Data', 'SOURCE_DETAIL': 'INEGI. National Survey on the Dynamics of Household Relations, 2016. Database', 'SOURCE_DETAIL_URL': 'nan', 'TIME_DETAIL': 'nan', 'COMMENT_OBS': 'Includes women 15 years and older who have or have had at least one partner relationship'}\n",
      "../data/processed/series/S_0780.csv\n",
      "csv_item_properties = {'title': 'Number of ever-partnered women and girls subjected to violence by a current or former intimate partner in the previous 12 months  by type of violence  by age', 'layer_title': 'Number of ever-partnered women and girls subjected to violence by a current or former int', 'snippet': 'Number of ever-partnered women and girls subjected to violence by a current or former intimate partner in the previous 12 months  by type of violence  by age', 'description': '<div style=\"background-color: #f78b33; color:#fff; padding: 15px\"><p><strong>Series Name:</strong>Number of ever-partnered women and girls subjected to violence by a current or former intimate partner in the previous 12 months, by type of violence, by age</p></div><div style=\"background-color: #f4f4f4; padding: 15px\"><p> </p></div>', 'tags': ['violence'], 'name': 'Number of ever-partnered women and girls subjected to violence by a current or former intimate partner in the previous 12 months  by type of violence  by age', 'type': 'CSV', 'url': ''}\n",
      "Searching for Number of ever-partnered women and girls subjected to violence by a current or former intimate partner in the previous 12 months  by type of violence  by age\n",
      " -- Item Number of ever-partnered women and girls subjected to violence by a current or former intimate partner in the previous 12 months  by type of violence  by age not found (force find)\n",
      "Adding CSV File to ArcGIS Online....\n",
      "Analyze Feature Service....\n",
      "Publishing Feature Service....\n",
      "s: {'code': 'S_0790', 'name': 'Proportion of ever-partnered women and girls subjected to violence by a current or former intimate partner in the previous 12 months, by type of violence, by age (%)', 'themes': [{'code': 'VAW', 'name': 'Violence against women and girl children', 'subthemes': [{'code': 'VAW_SUB1', 'name': 'Violence against women and girl children'}]}], 'narratives': ['NV1', 'NV13', 'NV14'], 'tags': ['violence']}\n",
      "{'SERIES': 'S_0790', 'SERIES_DESC': 'Proportion of ever-partnered women and girls subjected to violence by a current or former intimate partner in the previous 12 months, by type of violence, by age (%)', 'REPORTING_TYPE': 'G', 'REPORTING_TYPE_DESC': 'Global', 'GEOLEVEL': '4', 'GEOLEVEL_DESC': 'Country or Area', 'X': '66.02688198', 'Y': '33.83160199', 'REF_AREA': '4', 'REF_AREA_DESC': 'Afghanistan', 'TIME_PERIOD': '2015', 'SEX': 'F', 'SEX_DESC': 'Female', 'AGE': 'Y15T19', 'AGE_DESC': '15 to 19 years old', 'VIOLENCE_TYPE': 'PHY+SEX', 'VIOLENCE_TYPE_DESC': 'Physical and sexual', 'PERPETRATOR': 'INT_PARTNER', 'PERPETRATOR_DESC': 'Current or former intimate partner', 'OBS_VALUE': '28.7', 'LOWER_BOUND': 'nan', 'UPPER_BOUND': 'nan', 'STD_ERROR': 'nan', 'VAR_COEF': 'nan', 'UNIT_MEASURE': 'PT', 'UNIT_MEASURE_DESC': 'Percent', 'UNIT_MULT': '0', 'UNIT_MULT_DESC': 'Units', 'NATURE': 'C', 'NATURE_DESC': 'Country data', 'SOURCE_DETAIL': 'DHS', 'SOURCE_DETAIL_URL': 'nan', 'TIME_DETAIL': '2015', 'COMMENT_OBS': 'nan'}\n",
      "../data/processed/series/S_0790.csv\n",
      "csv_item_properties = {'title': 'Proportion of ever-partnered women and girls subjected to violence by a current or former intimate partner in the previous 12 months  by type of violence  by age (percent)', 'layer_title': 'Proportion of ever-partnered women and girls subjected to violence by a current or former', 'snippet': 'Proportion of ever-partnered women and girls subjected to violence by a current or former intimate partner in the previous 12 months  by type of violence  by age (percent)', 'description': '<div style=\"background-color: #f78b33; color:#fff; padding: 15px\"><p><strong>Series Name:</strong>Proportion of ever-partnered women and girls subjected to violence by a current or former intimate partner in the previous 12 months, by type of violence, by age (%)</p></div><div style=\"background-color: #f4f4f4; padding: 15px\"><p> </p></div>', 'tags': ['violence'], 'name': 'Proportion of ever-partnered women and girls subjected to violence by a current or former intimate partner in the previous 12 months  by type of violence  by age (percent)', 'type': 'CSV', 'url': ''}\n",
      "Searching for Proportion of ever-partnered women and girls subjected to violence by a current or former intimate partner in the previous 12 months  by type of violence  by age (percent)\n",
      " -- Item Proportion of ever-partnered women and girls subjected to violence by a current or former intimate partner in the previous 12 months  by type of violence  by age (percent) not found (force find)\n",
      "Adding CSV File to ArcGIS Online....\n",
      "Analyze Feature Service....\n",
      "Publishing Feature Service....\n"
     ]
    },
    {
     "ename": "KeyError",
     "evalue": "'type'",
     "output_type": "error",
     "traceback": [
      "\u001b[1;31m---------------------------------------------------------------------------\u001b[0m",
      "\u001b[1;31mKeyError\u001b[0m                                  Traceback (most recent call last)",
      "\u001b[1;32m<ipython-input-52-b7425ca636ca>\u001b[0m in \u001b[0;36m<module>\u001b[1;34m\u001b[0m\n\u001b[0;32m     51\u001b[0m             \u001b[0mprint\u001b[0m\u001b[1;33m(\u001b[0m\u001b[1;34m'Publishing Feature Service....'\u001b[0m\u001b[1;33m)\u001b[0m\u001b[1;33m\u001b[0m\u001b[1;33m\u001b[0m\u001b[0m\n\u001b[0;32m     52\u001b[0m \u001b[1;33m\u001b[0m\u001b[0m\n\u001b[1;32m---> 53\u001b[1;33m             \u001b[0mcsv_lyr\u001b[0m \u001b[1;33m=\u001b[0m \u001b[0mcsv_item\u001b[0m\u001b[1;33m.\u001b[0m\u001b[0mpublish\u001b[0m\u001b[1;33m(\u001b[0m\u001b[0mpublish_parameters\u001b[0m\u001b[1;33m=\u001b[0m\u001b[0mpublish_parameters\u001b[0m\u001b[1;33m,\u001b[0m \u001b[0moverwrite\u001b[0m\u001b[1;33m=\u001b[0m\u001b[1;32mTrue\u001b[0m\u001b[1;33m)\u001b[0m\u001b[1;33m\u001b[0m\u001b[1;33m\u001b[0m\u001b[0m\n\u001b[0m\u001b[0;32m     54\u001b[0m \u001b[1;33m\u001b[0m\u001b[0m\n\u001b[0;32m     55\u001b[0m             \u001b[1;31m#print('.......call generate renderer within publish_csv')\u001b[0m\u001b[1;33m\u001b[0m\u001b[1;33m\u001b[0m\u001b[1;33m\u001b[0m\u001b[0m\n",
      "\u001b[1;32m~\\AppData\\Local\\Programs\\Python\\Python37-32\\lib\\site-packages\\arcgis\\gis\\__init__.py\u001b[0m in \u001b[0;36mpublish\u001b[1;34m(self, publish_parameters, address_fields, output_type, overwrite, file_type, build_initial_cache)\u001b[0m\n\u001b[0;32m   9301\u001b[0m         \u001b[1;32melif\u001b[0m \u001b[1;32mnot\u001b[0m \u001b[0mbuildInitialCache\u001b[0m \u001b[1;32mand\u001b[0m \u001b[0moutput_type\u001b[0m \u001b[1;32mis\u001b[0m \u001b[1;32mnot\u001b[0m \u001b[1;32mNone\u001b[0m \u001b[1;32mand\u001b[0m \u001b[0moutput_type\u001b[0m\u001b[1;33m.\u001b[0m\u001b[0mlower\u001b[0m\u001b[1;33m(\u001b[0m\u001b[1;33m)\u001b[0m \u001b[1;32min\u001b[0m \u001b[1;33m[\u001b[0m\u001b[1;34m'sceneservice'\u001b[0m\u001b[1;33m]\u001b[0m\u001b[1;33m:\u001b[0m\u001b[1;33m\u001b[0m\u001b[1;33m\u001b[0m\u001b[0m\n\u001b[0;32m   9302\u001b[0m             \u001b[1;32mreturn\u001b[0m \u001b[0mItem\u001b[0m\u001b[1;33m(\u001b[0m\u001b[0mself\u001b[0m\u001b[1;33m.\u001b[0m\u001b[0m_gis\u001b[0m\u001b[1;33m,\u001b[0m \u001b[0mret\u001b[0m\u001b[1;33m[\u001b[0m\u001b[1;36m0\u001b[0m\u001b[1;33m]\u001b[0m\u001b[1;33m[\u001b[0m\u001b[1;34m'serviceItemId'\u001b[0m\u001b[1;33m]\u001b[0m\u001b[1;33m)\u001b[0m\u001b[1;33m\u001b[0m\u001b[1;33m\u001b[0m\u001b[0m\n\u001b[1;32m-> 9303\u001b[1;33m         \u001b[1;32melif\u001b[0m \u001b[1;32mnot\u001b[0m \u001b[0mbuildInitialCache\u001b[0m \u001b[1;32mand\u001b[0m \u001b[0mret\u001b[0m\u001b[1;33m[\u001b[0m\u001b[1;36m0\u001b[0m\u001b[1;33m]\u001b[0m\u001b[1;33m[\u001b[0m\u001b[1;34m'type'\u001b[0m\u001b[1;33m]\u001b[0m\u001b[1;33m.\u001b[0m\u001b[0mlower\u001b[0m\u001b[1;33m(\u001b[0m\u001b[1;33m)\u001b[0m \u001b[1;33m==\u001b[0m \u001b[1;34m'image service'\u001b[0m\u001b[1;33m:\u001b[0m\u001b[1;33m\u001b[0m\u001b[1;33m\u001b[0m\u001b[0m\n\u001b[0m\u001b[0;32m   9304\u001b[0m             \u001b[1;32mreturn\u001b[0m \u001b[0mItem\u001b[0m\u001b[1;33m(\u001b[0m\u001b[0mself\u001b[0m\u001b[1;33m.\u001b[0m\u001b[0m_gis\u001b[0m\u001b[1;33m,\u001b[0m \u001b[0mret\u001b[0m\u001b[1;33m[\u001b[0m\u001b[1;36m0\u001b[0m\u001b[1;33m]\u001b[0m\u001b[1;33m[\u001b[0m\u001b[1;34m'serviceItemId'\u001b[0m\u001b[1;33m]\u001b[0m\u001b[1;33m)\u001b[0m\u001b[1;33m\u001b[0m\u001b[1;33m\u001b[0m\u001b[0m\n\u001b[0;32m   9305\u001b[0m         \u001b[1;32melse\u001b[0m\u001b[1;33m:\u001b[0m\u001b[1;33m\u001b[0m\u001b[1;33m\u001b[0m\u001b[0m\n",
      "\u001b[1;31mKeyError\u001b[0m: 'type'"
     ]
    }
   ],
   "source": [
    "for d in data_files2[70::]:\n",
    "    series = d.replace('.xlsx','')\n",
    "    \n",
    "    s = None\n",
    "    for m in series_metadata:\n",
    "        if m['code'] == series:\n",
    "            s = m\n",
    "            continue\n",
    "    print(f's: {s}')        \n",
    "    xlsx_dataset = '../data/processed/series/' + d\n",
    "\n",
    "    data_dict = utils.xlsx2dict(xlsx_dataset, 'Sheet1')\n",
    "    \n",
    "    print(data_dict[0])\n",
    "    \n",
    "    utils.dictList2tsv(data_dict, xlsx_dataset.replace('xlsx','csv'))\n",
    "    # csv file to be uploaded:\n",
    "    file = os.path.join(xlsx_dataset.replace('xlsx','csv'))\n",
    "    print(file)\n",
    "    \n",
    "    s_card = build_series_card(s)\n",
    "    \n",
    "    if os.path.isfile(file):\n",
    "        csv_item_properties = copy.deepcopy(s_card)\n",
    "        csv_item_properties['name'] = s['name'].replace('%', 'percent').replace(\n",
    "            ',', ' ').replace('/', ' ')\n",
    "        csv_item_properties['title'] = s['name'].replace('%', 'percent').replace(\n",
    "            ',', ' ').replace('/', ' ')\n",
    "        csv_item_properties['type'] = 'CSV'\n",
    "        csv_item_properties['url'] = ''\n",
    "\n",
    "        print(f'csv_item_properties = {csv_item_properties}')\n",
    "\n",
    "        csv_item = find_online_item(\n",
    "                    csv_item_properties['title'], online_username, gis_online_connection)\n",
    "\n",
    "        if csv_item is None:\n",
    "            print('Adding CSV File to ArcGIS Online....')\n",
    "\n",
    "            csv_item = gis_online_connection.content.add(item_properties=csv_item_properties,\n",
    "                                                         #thumbnail=thumbnail,\n",
    "                                                         data=file,\n",
    "                                                         folder = 'World\\'s Women 2020 Data')\n",
    "\n",
    "            print('Analyze Feature Service....')\n",
    "\n",
    "            publish_parameters = analyze_csv(csv_item['id'], gis_online_connection)\n",
    "            publish_parameters['name'] = csv_item_properties['title'][0:80] \n",
    "            publish_parameters['layerInfo']['name'] = csv_item_properties['layer_title'][0:80]\n",
    "\n",
    "            print('Publishing Feature Service....')\n",
    "            \n",
    "            csv_lyr = csv_item.publish(publish_parameters=publish_parameters, overwrite=True)\n",
    "\n",
    "            #print('.......call generate renderer within publish_csv')\n"
   ]
  },
  {
   "cell_type": "code",
   "execution_count": 14,
   "metadata": {},
   "outputs": [
    {
     "name": "stdout",
     "output_type": "stream",
     "text": [
      "hello\n"
     ]
    }
   ],
   "source": [
    "print('hello')"
   ]
  },
  {
   "cell_type": "code",
   "execution_count": null,
   "metadata": {},
   "outputs": [],
   "source": []
  }
 ],
 "metadata": {
  "kernelspec": {
   "display_name": "Python 3.7.2 32-bit",
   "language": "python",
   "name": "python37232bit0725cd331557480a8887ab9d7f73d487"
  },
  "language_info": {
   "codemirror_mode": {
    "name": "ipython",
    "version": 3
   },
   "file_extension": ".py",
   "mimetype": "text/x-python",
   "name": "python",
   "nbconvert_exporter": "python",
   "pygments_lexer": "ipython3",
   "version": "3.7.2"
  }
 },
 "nbformat": 4,
 "nbformat_minor": 2
}
