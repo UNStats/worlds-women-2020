{
 "cells": [
  {
   "cell_type": "markdown",
   "metadata": {},
   "source": [
    "# Query narratives\n",
    "\n",
    "In this script we will:\n",
    " 1. Obtain a list of all narrative titles by thematic area\n",
    " 2. Obtain a list of all \"tag\" references, including the narrative and section in which they are included"
   ]
  },
  {
   "cell_type": "markdown",
   "metadata": {},
   "source": [
    "## Load required libraries"
   ]
  },
  {
   "cell_type": "code",
   "execution_count": 1,
   "metadata": {},
   "outputs": [
    {
     "name": "stderr",
     "output_type": "stream",
     "text": [
      "C:\\Users\\L.GonzalezMorales\\AppData\\Local\\Programs\\Python\\Python37-32\\lib\\site-packages\\arcgis\\features\\_data\\geodataset\\utils.py:15: FutureWarning: The pandas.datetime class is deprecated and will be removed from pandas in a future version. Import from datetime module instead.\n",
      "  pd.datetime,\n"
     ]
    }
   ],
   "source": [
    "import os\n",
    "from bs4 import BeautifulSoup\n",
    "import pandas as pd\n",
    "import sys\n",
    "from copy import deepcopy\n",
    "import getpass\n",
    "from arcgis.gis import GIS\n",
    "\n",
    "# see: https://stackoverflow.com/questions/4383571/importing-files-from-different-folder\n",
    "# insert at 1, 0 is the script path (or '' in REPL)\n",
    "sys.path.insert(1, '../scripts')\n",
    "\n",
    "import utils\n",
    "\n",
    "\n",
    "# https://volderette.de/jupyter-notebook-tip-multiple-outputs/\n",
    "from IPython.core.interactiveshell import InteractiveShell\n",
    "InteractiveShell.ast_node_interactivity = \"all\""
   ]
  },
  {
   "cell_type": "markdown",
   "metadata": {},
   "source": [
    "## Set path"
   ]
  },
  {
   "cell_type": "code",
   "execution_count": 2,
   "metadata": {},
   "outputs": [],
   "source": [
    "path = \"../narratives/\""
   ]
  },
  {
   "cell_type": "markdown",
   "metadata": {},
   "source": [
    "## Get list of story maps in ArcGIS online"
   ]
  },
  {
   "cell_type": "code",
   "execution_count": 3,
   "metadata": {},
   "outputs": [
    {
     "name": "stdin",
     "output_type": "stream",
     "text": [
      "Username:  unstats_admin\n",
      "Password:  ············\n"
     ]
    }
   ],
   "source": [
    "online_username = input('Username: ')\n",
    "online_password = getpass.getpass('Password: ')\n",
    "online_connection = \"https://www.arcgis.com\"\n",
    "gis_online_connection = GIS(online_connection,\n",
    "                            online_username,\n",
    "                            online_password)\n",
    "\n"
   ]
  },
  {
   "cell_type": "code",
   "execution_count": 4,
   "metadata": {},
   "outputs": [],
   "source": [
    "narratives_folder='f92458348e234be39392ee8c6515c4ae'\n",
    "\n",
    "user = gis_online_connection.users.get('unstats_admin')\n",
    "user_items = user.items(folder=\"World's Women 2020 Narratives\", max_items=800)\n",
    "\n",
    "arcgis_narratives = []\n",
    "for item in user_items:\n",
    "    \n",
    "    if item.url == 'https://undesa.maps.arcgis.com/apps/FilterGallery/index.html?appid=2501891d28164237b903c1a5ff31621f':\n",
    "        continue\n",
    "    \n",
    "    d=dict()\n",
    "    d['type'] = item.type\n",
    "    \n",
    "    if item.description:\n",
    "        description = BeautifulSoup(item.description, \"html.parser\")\n",
    "        desc_list = description.find_all('li')\n",
    "        d['narrative_id'] = desc_list[0].get_text().replace(\"Narrative ID: \", \"\") \n",
    "        d['narrative_title'] = desc_list[1].get_text().replace(\"Narrative Title: \", \"\")  \n",
    "        d['narrative_theme'] = desc_list[2].get_text().replace(\"Theme: \", \"\") \n",
    "        d['narrative_sdgs'] = desc_list[3].get_text().replace(\"SDG indicators: \",\"\")\n",
    "        d['narrative_beijing'] = desc_list[4].get_text().replace(\"Beijing objectives: \",\"\")\n",
    "    \n",
    "    d['title'] = item.title\n",
    "    d['url'] = item.url\n",
    "    d['item_id'] = item.url.replace('https://undesa.maps.arcgis.com/apps/MapJournal/index.html?appid=','')\n",
    "    d['tags'] = item.tags\n",
    "    \n",
    "    arcgis_narratives.append(d)\n",
    "\n",
    "\n",
    "pd.DataFrame.from_dict(arcgis_narratives).to_excel(\n",
    "    '../narratives/arcgis_narratives.xlsx', index=False)"
   ]
  },
  {
   "cell_type": "markdown",
   "metadata": {},
   "source": [
    "## Walk through narrative folders"
   ]
  },
  {
   "cell_type": "code",
   "execution_count": 5,
   "metadata": {},
   "outputs": [
    {
     "name": "stdout",
     "output_type": "stream",
     "text": [
      "['ND', 'NE', 'NH', 'NP', 'NV', 'NW']\n"
     ]
    }
   ],
   "source": [
    "\n",
    "thematic_areas = [f.name for f in os.scandir(path) if f.is_dir()]\n",
    "thematic_areas.remove('_templates')\n",
    "print(thematic_areas)\n",
    "\n",
    "narrative_catalogue = []\n",
    "\n",
    "for ta in thematic_areas:\n",
    "    for n in [f.name for f in os.scandir(path + '/' + ta) if f.is_dir()]:\n",
    "        d = dict()\n",
    "        #print(f'Thematic area: {ta}, Narrative: {n}')\n",
    "        d['thematic_area_id'] = ta\n",
    "        d['narrative_id'] = n\n",
    "        narrative_catalogue.append(d)\n",
    "        \n",
    "#print(narrative_catalogue)\n",
    "        \n",
    "        "
   ]
  },
  {
   "cell_type": "code",
   "execution_count": 6,
   "metadata": {},
   "outputs": [],
   "source": [
    "file = '../narratives/ND/ND1/index.html'\n",
    "\n",
    "with open(file, 'r', encoding=\"utf8\") as f:\n",
    "    narrative = BeautifulSoup(f.read(), \"html.parser\")\n",
    "    \n",
    "#print(narrative.div)\n",
    "        \n"
   ]
  },
  {
   "cell_type": "markdown",
   "metadata": {},
   "source": [
    "## Extract list of narrative references"
   ]
  },
  {
   "cell_type": "code",
   "execution_count": 7,
   "metadata": {},
   "outputs": [],
   "source": [
    "narrative_references = []\n",
    "\n",
    "for n in narrative_catalogue:\n",
    "    file = '../narratives/'+ n['thematic_area_id'] +'/'+ n['narrative_id'] +'/index.html'\n",
    "    with open(file, 'r', encoding=\"utf8\") as f:\n",
    "        narrative = BeautifulSoup(f.read(), \"html.parser\")\n",
    "        \n",
    "        # Find all narrative references:\n",
    "        n_title = narrative.find('div', {'class':'title'}).get_text()\n",
    "        n_ref_list = narrative.find_all('a', {'class':'narrative-ref'})\n",
    "        \n",
    "        for n_ref in n_ref_list:\n",
    "            \n",
    "          \n",
    "            d = dict()\n",
    "            d['thematic_area_id'] = n['thematic_area_id']\n",
    "            d['narrative_id'] = n['narrative_id']\n",
    "            d['narrative_title'] = n_title\n",
    "            d['n_ref_id'] = n_ref.attrs['href']\n",
    "            d['n_ref_text'] = n_ref.get_text()\n",
    "            \n",
    "            ref_arcgis = utils.select_dict(arcgis_narratives, {'narrative_id':n_ref.attrs['href'].replace('#','')})\n",
    "            \n",
    "            if len(ref_arcgis)>0:\n",
    "                d['n_ref_id2'] = ref_arcgis[0]['narrative_id']\n",
    "                d['narrative_title2'] = ref_arcgis[0]['narrative_title']\n",
    "                d['narrative_theme'] = ref_arcgis[0]['narrative_theme']\n",
    "                d['item_id'] = ref_arcgis[0]['item_id']\n",
    "                d['url'] = ref_arcgis[0]['url']\n",
    "            else:\n",
    "                d['n_ref_id2'] = None\n",
    "                d['narrative_title2'] = None\n",
    "                d['narrative_theme'] = None\n",
    "                d['item_id'] = None\n",
    "                d['url'] = None\n",
    "            \n",
    "            narrative_references.append(d)\n",
    "            \n",
    "#print(narrative_references)\n",
    "pd.DataFrame.from_dict(narrative_references).to_excel(\n",
    "    '../narratives/narrative_references.xlsx', index=False)\n",
    "            "
   ]
  },
  {
   "cell_type": "markdown",
   "metadata": {},
   "source": [
    "## Extract list of tagged paragraphs"
   ]
  },
  {
   "cell_type": "code",
   "execution_count": 8,
   "metadata": {},
   "outputs": [],
   "source": [
    "tags = []\n",
    "\n",
    "for n in narrative_catalogue:\n",
    "    file = '../narratives/'+ n['thematic_area_id'] +'/'+ n['narrative_id'] +'/index.html'\n",
    "    with open(file, 'r', encoding=\"utf8\") as f:\n",
    "        narrative = BeautifulSoup(f.read(), \"html.parser\")\n",
    "        \n",
    "        # Find all narrative references:\n",
    "        n_title = narrative.find('div', {'class':'title'}).get_text()\n",
    "        n_tag_list = narrative.find_all('span', {'class':'label-ref'})\n",
    "        \n",
    "        for n_tag in n_tag_list:\n",
    "            d = dict()\n",
    "            d['thematic_area_id'] = n['thematic_area_id']\n",
    "            d['narrative_id'] = n['narrative_id']\n",
    "            d['narrative_title'] = n_title\n",
    "            d['tag_id'] = n_tag.attrs['tag']\n",
    "            d['n_ref_text'] = n_tag.get_text()\n",
    "            \n",
    "            narrative_data = utils.select_dict(arcgis_narratives, {'narrative_id': n['narrative_id']})\n",
    "            if len(narrative_data)>0:\n",
    "                d['url'] = narrative_data[0]['url']\n",
    "            else:\n",
    "                d['url'] = None\n",
    "                \n",
    "            parent = deepcopy(n_tag.parent)\n",
    "\n",
    "            \n",
    "            # remove footnotes:\n",
    "            footnote = parent.findAll('span', {'class':'footnote-index'})\n",
    "            for f in footnote:\n",
    "                x = f.decompose()\n",
    "            \n",
    "            # remove <strong> </strong> tags:\n",
    "            strong = parent.findAll('strong')\n",
    "            for s in strong:\n",
    "                x = s.unwrap()\n",
    "            \n",
    "            # remove <span> </span> tags:\n",
    "            span = parent.findAll('span', {'class':'label-ref'})\n",
    "            for s in span:\n",
    "                if s.string == n_tag.get_text():\n",
    "                    x = s.string.wrap(narrative.new_tag(\"strong\"))\n",
    "                    \n",
    "            span = parent.findAll('span', {'class':'label-ref'})\n",
    "            for s in span:\n",
    "                x = s.unwrap()\n",
    "                \n",
    "            \n",
    "            \n",
    "\n",
    "            \n",
    "            \n",
    "            # ------------  link to actual narrative's url -----------------\n",
    "            excerpt = BeautifulSoup(''.join(str(i) for i in parent.contents), \"html.parser\")\n",
    "            \n",
    "            ref_list = excerpt.find_all('a', {'class':'narrative-ref'})\n",
    "            \n",
    "            for r in ref_list:\n",
    "                \n",
    "                ref_arcgis = utils.select_dict(arcgis_narratives, {'narrative_id':r.attrs['href'].replace('#','')})\n",
    "                \n",
    "                if len(ref_arcgis)>0:\n",
    "                    r.attrs['href'] = ref_arcgis[0]['url']\n",
    "                    \n",
    "            d['excerpt'] = excerpt\n",
    "            \n",
    "            \n",
    "            tags.append(d)\n",
    "            \n",
    "#print(narrative_references)\n",
    "pd.DataFrame.from_dict(tags).to_excel(\n",
    "    '../narratives/narrative_tags.xlsx', index=False)\n",
    "            "
   ]
  }
 ],
 "metadata": {
  "kernelspec": {
   "display_name": "Python 3.7.2 32-bit",
   "language": "python",
   "name": "python37232bit0725cd331557480a8887ab9d7f73d487"
  },
  "language_info": {
   "codemirror_mode": {
    "name": "ipython",
    "version": 3
   },
   "file_extension": ".py",
   "mimetype": "text/x-python",
   "name": "python",
   "nbconvert_exporter": "python",
   "pygments_lexer": "ipython3",
   "version": "3.7.2"
  }
 },
 "nbformat": 4,
 "nbformat_minor": 2
}
